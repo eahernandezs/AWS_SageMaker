{
 "cells": [
  {
   "cell_type": "markdown",
   "id": "122508aa-73e5-445e-8e2b-757e21e9ca93",
   "metadata": {},
   "source": [
    "#### Cargue de librerias"
   ]
  },
  {
   "cell_type": "code",
   "execution_count": 1,
   "id": "73103c57-655c-4b05-b559-f64389574f5f",
   "metadata": {
    "tags": []
   },
   "outputs": [],
   "source": [
    "from datetime import datetime, timedelta, timezone\n",
    "import json\n",
    "import os\n",
    "import re\n",
    "import boto3\n",
    "from time import sleep\n",
    "from threading import Thread\n",
    "\n",
    "import pandas as pd\n",
    "import numpy as np\n",
    "import sagemaker\n",
    "from sagemaker import get_execution_role, session, Session, image_uris\n",
    "from sagemaker.s3 import S3Downloader, S3Uploader\n",
    "from sagemaker.processing import ProcessingJob\n",
    "from sagemaker.serializers import CSVSerializer\n",
    "\n",
    "from sagemaker.model import Model\n",
    "from sagemaker.model_monitor import DataCaptureConfig\n",
    "\n",
    "from sagemaker.predictor import Predictor\n",
    "\n",
    "session = Session()\n",
    "region = \"us-east-1\"\n",
    "role = \"Labrole\""
   ]
  },
  {
   "cell_type": "markdown",
   "id": "2a919665-b1ad-42d2-ad1e-9e43ce5fa5b8",
   "metadata": {
    "tags": []
   },
   "source": [
    "#### Configuración del bucket"
   ]
  },
  {
   "cell_type": "code",
   "execution_count": 2,
   "id": "066fc369-3fa1-4282-965d-b7eecb83ac2c",
   "metadata": {
    "tags": []
   },
   "outputs": [
    {
     "name": "stdout",
     "output_type": "stream",
     "text": [
      "Bucket: pronostico-dolar-04-2023\n",
      "Image URI: 156813124566.dkr.ecr.us-east-1.amazonaws.com/sagemaker-model-monitor-analyzer\n",
      "Capture path: s3://pronostico-dolar-04-2023/deepar-dolar-notebook/ModelQualityMonitor-dolar/datacapture\n",
      "Ground truth path: s3://pronostico-dolar-04-2023/deepar-dolar-notebook/ModelQualityMonitor-dolar/ground_truth_data/2023-04-10-19-34-20\n",
      "Report path: s3://pronostico-dolar-04-2023/deepar-dolar-notebook/ModelQualityMonitor-dolar/reports\n"
     ]
    }
   ],
   "source": [
    "s3_bucket = \"pronostico-dolar-04-2023\"  # reemplazar con un bucket existente si es necesario\n",
    "\n",
    "# seccion 1\n",
    "\n",
    "# Setup S3 bucket\n",
    "# You can use a different bucket, but make sure the role you chose for this notebook\n",
    "# has the s3:PutObject permissions. This is the bucket into which the data is captured\n",
    "\n",
    "bucket = s3_bucket\n",
    "print(\"Bucket:\", bucket)\n",
    "prefix = \"deepar-dolar-notebook/ModelQualityMonitor-dolar\"\n",
    "\n",
    "##S3 prefixes\n",
    "data_capture_prefix = f\"{prefix}/datacapture\"\n",
    "s3_capture_upload_path = f\"s3://{bucket}/{data_capture_prefix}\"\n",
    "\n",
    "ground_truth_upload_path = (\n",
    "    f\"s3://{bucket}/{prefix}/ground_truth_data/{datetime.now():%Y-%m-%d-%H-%M-%S}\"\n",
    ")\n",
    "\n",
    "reports_prefix = f\"{prefix}/reports\"\n",
    "s3_report_path = f\"s3://{bucket}/{reports_prefix}\"\n",
    "\n",
    "\n",
    "##Get the model monitor image\n",
    "monitor_image_uri = image_uris.retrieve(framework=\"model-monitor\", region=region)\n",
    "\n",
    "print(\"Image URI:\", monitor_image_uri)\n",
    "print(f\"Capture path: {s3_capture_upload_path}\")\n",
    "print(f\"Ground truth path: {ground_truth_upload_path}\")\n",
    "print(f\"Report path: {s3_report_path}\")"
   ]
  },
  {
   "cell_type": "code",
   "execution_count": 7,
   "id": "480282d1-515f-4d95-ad89-e058c85317d2",
   "metadata": {
    "tags": []
   },
   "outputs": [
    {
     "data": {
      "text/plain": [
       "'s3://pronostico-dolar-04-2023/deepar-dolar-notebook/output/deepar-dolar-2023-04-09-23-05-44-553/output/model.tar.gz'"
      ]
     },
     "execution_count": 7,
     "metadata": {},
     "output_type": "execute_result"
    }
   ],
   "source": [
    "##Ubicación del modelo pre-entrenado en s3\n",
    "model_url = \"s3://pronostico-dolar-04-2023/deepar-dolar-notebook/output/deepar-dolar-2023-04-09-23-05-44-553/output/model.tar.gz\"\n",
    "model_url"
   ]
  },
  {
   "cell_type": "markdown",
   "id": "12b6f802-0f55-41f3-a73d-f8c169aa6180",
   "metadata": {},
   "source": [
    "#### Crear entidad de modelo de SageMaker"
   ]
  },
  {
   "cell_type": "code",
   "execution_count": 8,
   "id": "f68628ac-4da7-4861-bbc4-9b2449590889",
   "metadata": {
    "tags": []
   },
   "outputs": [],
   "source": [
    "model_name = f\"Dolar-pred-model-monitor-{datetime.utcnow():%Y-%m-%d-%H%M}\"\n",
    "\n",
    "image_name = sagemaker.image_uris.retrieve(\"forecasting-deepar\", region=region)\n",
    "\n",
    "model = Model(image_uri=image_name, model_data=model_url, role=role, sagemaker_session=session)"
   ]
  },
  {
   "cell_type": "markdown",
   "id": "2c4789f8-4a02-4c2d-b877-04f22ffa5f73",
   "metadata": {},
   "source": [
    "#### Despliegue del modelo con la captura de datos habilitada"
   ]
  },
  {
   "cell_type": "code",
   "execution_count": 24,
   "id": "291929f0-9182-43a2-b823-7129c99c1db9",
   "metadata": {
    "tags": []
   },
   "outputs": [
    {
     "name": "stdout",
     "output_type": "stream",
     "text": [
      "EndpointName = Dolar-model-quality-monitor-2023-04-10-1627\n",
      "-----!"
     ]
    }
   ],
   "source": [
    "endpoint_name = f\"Dolar-model-quality-monitor-{datetime.utcnow():%Y-%m-%d-%H%M}\"\n",
    "print(\"EndpointName =\", endpoint_name)\n",
    "\n",
    "data_capture_config = DataCaptureConfig(\n",
    "    enable_capture=True, sampling_percentage=100, destination_s3_uri=s3_capture_upload_path\n",
    ")\n",
    "\n",
    "model.deploy(\n",
    "    initial_instance_count=1,\n",
    "    instance_type=\"ml.m5.large\",\n",
    "    endpoint_name=endpoint_name,\n",
    "    data_capture_config=data_capture_config,\n",
    "    )"
   ]
  },
  {
   "cell_type": "markdown",
   "id": "fbcc314f-29d5-40ae-8a08-1f2e8f76d30f",
   "metadata": {},
   "source": [
    "#### Creación del objeto SageMaker Predictor"
   ]
  },
  {
   "cell_type": "code",
   "execution_count": 3,
   "id": "facb4416-3682-420f-91b1-99be673e078d",
   "metadata": {
    "tags": []
   },
   "outputs": [],
   "source": [
    "from sagemaker.serializers import IdentitySerializer"
   ]
  },
  {
   "cell_type": "markdown",
   "id": "774e8490-02f5-47ea-8fd9-3a7c52a397e6",
   "metadata": {},
   "source": [
    "Esta clase (Creada en ejemplo de AWS para implementación del algoritmo) permite realizar solicitudes utilizando objetos pandas.Series en lugar de cadenas JSON sin procesar."
   ]
  },
  {
   "cell_type": "code",
   "execution_count": 4,
   "id": "e8c7a65d-7bc3-41a6-ab0d-424d6957ca01",
   "metadata": {
    "tags": []
   },
   "outputs": [],
   "source": [
    "# usamos una frecuencia de 1 día para la serie de tiempo\n",
    "freq = \"1D\"\n",
    "\n",
    "class DeepARPredictor(Predictor):\n",
    "    def __init__(self, *args, **kwargs):\n",
    "        super().__init__(\n",
    "            *args,\n",
    "            # serializer=JSONSerializer(),\n",
    "            serializer=IdentitySerializer(content_type=\"application/json\"),\n",
    "            **kwargs,\n",
    "        )\n",
    "\n",
    "    def predict(\n",
    "        self,\n",
    "        ts,\n",
    "        cat=None,\n",
    "        dynamic_feat=None,\n",
    "        num_samples=100,\n",
    "        return_samples=False,\n",
    "        quantiles=[\"0.1\", \"0.5\", \"0.9\"],\n",
    "    ):\n",
    "        \"\"\"Requests the prediction of for the time series listed in `ts`, each with the (optional)\n",
    "        corresponding category listed in `cat`.\n",
    "\n",
    "        ts -- `pandas.Series` object, the time series to predict\n",
    "        cat -- integer, the group associated to the time series (default: None)\n",
    "        num_samples -- integer, number of samples to compute at prediction time (default: 100)\n",
    "        return_samples -- boolean indicating whether to include samples in the response (default: False)\n",
    "        quantiles -- list of strings specifying the quantiles to compute (default: [\"0.1\", \"0.5\", \"0.9\"])\n",
    "\n",
    "        Return value: list of `pandas.DataFrame` objects, each containing the predictions\n",
    "        \"\"\"\n",
    "        ts.index.freq = 'D' # Establecer una frecuencia diaria\n",
    "        prediction_time = ts.index[-1] + ts.index.freq\n",
    "        quantiles = [str(q) for q in quantiles]\n",
    "        req = self.__encode_request(ts, cat, dynamic_feat, num_samples, return_samples, quantiles)\n",
    "        res = super(DeepARPredictor, self).predict(req)\n",
    "        return self.__decode_response(res, ts.index.freq, prediction_time, return_samples)\n",
    "\n",
    "    def __encode_request(self, ts, cat, dynamic_feat, num_samples, return_samples, quantiles):\n",
    "        instance = series_to_dict(\n",
    "            ts, cat if cat is not None else None, dynamic_feat if dynamic_feat else None\n",
    "        )\n",
    "\n",
    "        configuration = {\n",
    "            \"num_samples\": num_samples,\n",
    "            \"output_types\": [\"quantiles\", \"samples\"] if return_samples else [\"quantiles\"],\n",
    "            \"quantiles\": quantiles,\n",
    "        }\n",
    "\n",
    "        http_request_data = {\"instances\": [instance], \"configuration\": configuration}\n",
    "\n",
    "        return json.dumps(http_request_data).encode(\"utf-8\")\n",
    "\n",
    "    def __decode_response(self, response, freq, prediction_time, return_samples):\n",
    "        # we only sent one time series so we only receive one in return\n",
    "        # however, if possible one will pass multiple time series as predictions will then be faster\n",
    "        predictions = json.loads(response.decode(\"utf-8\"))[\"predictions\"][0]\n",
    "        prediction_length = len(next(iter(predictions[\"quantiles\"].values())))\n",
    "        prediction_index = pd.date_range(\n",
    "            start=prediction_time, freq=freq, periods=prediction_length\n",
    "        )\n",
    "        if return_samples:\n",
    "            dict_of_samples = {\"sample_\" + str(i): s for i, s in enumerate(predictions[\"samples\"])}\n",
    "        else:\n",
    "            dict_of_samples = {}\n",
    "        return pd.DataFrame(\n",
    "            data={**predictions[\"quantiles\"], **dict_of_samples}, index=prediction_index\n",
    "        )\n",
    "\n",
    "    def set_frequency(self, freq):\n",
    "        self.freq = freq\n",
    "\n",
    "\n",
    "def encode_target(ts):\n",
    "    return [x if np.isfinite(x) else \"NaN\" for x in ts]\n",
    "\n",
    "\n",
    "def series_to_dict(ts, cat=None, dynamic_feat=None):\n",
    "    \"\"\"Given a pandas.Series object, returns a dictionary encoding the time series.\n",
    "\n",
    "    ts -- a pands.Series object with the target time series\n",
    "    cat -- an integer indicating the time series category\n",
    "\n",
    "    Return value: a dictionary\n",
    "    \"\"\"\n",
    "    obj = {\"start\": str(ts.index[0]), \"target\": encode_target(ts)}\n",
    "    if cat is not None:\n",
    "        obj[\"cat\"] = cat\n",
    "    if dynamic_feat is not None:\n",
    "        obj[\"dynamic_feat\"] = dynamic_feat\n",
    "    return obj"
   ]
  },
  {
   "cell_type": "code",
   "execution_count": 10,
   "id": "74ed9d82-f631-4bb9-80f9-a74266d909c6",
   "metadata": {
    "tags": []
   },
   "outputs": [],
   "source": [
    "predictor = DeepARPredictor(endpoint_name=\"Dolar-model-quality-monitor-2023-04-10-1627\")"
   ]
  },
  {
   "cell_type": "markdown",
   "id": "23e397c4-06e5-4593-8887-0af72e43e67e",
   "metadata": {},
   "source": [
    "#### Prueba de predicción con monitoreo del modelo activado"
   ]
  },
  {
   "cell_type": "code",
   "execution_count": 51,
   "id": "e5654b8a-7e14-41cd-bb01-6e19fc78a37f",
   "metadata": {
    "tags": []
   },
   "outputs": [],
   "source": [
    "# Cargue de datos de serie de tiempo\n",
    "\n",
    "FILE_NAME = \"Serie_historica_dolar_Deep_AR.csv\"\n",
    "\n",
    "data = pd.read_csv(FILE_NAME, index_col=0, parse_dates=True, dayfirst=True)"
   ]
  },
  {
   "cell_type": "code",
   "execution_count": 52,
   "id": "92c4bba7-de14-4c15-9814-19b685e8d06e",
   "metadata": {
    "tags": []
   },
   "outputs": [],
   "source": [
    "timeseries = data.iloc[:, 0]"
   ]
  },
  {
   "cell_type": "code",
   "execution_count": 60,
   "id": "1553afe1-7b52-4a63-abc1-8b83bb04583e",
   "metadata": {
    "tags": []
   },
   "outputs": [
    {
     "data": {
      "text/html": [
       "<div>\n",
       "<style scoped>\n",
       "    .dataframe tbody tr th:only-of-type {\n",
       "        vertical-align: middle;\n",
       "    }\n",
       "\n",
       "    .dataframe tbody tr th {\n",
       "        vertical-align: top;\n",
       "    }\n",
       "\n",
       "    .dataframe thead th {\n",
       "        text-align: right;\n",
       "    }\n",
       "</style>\n",
       "<table border=\"1\" class=\"dataframe\">\n",
       "  <thead>\n",
       "    <tr style=\"text-align: right;\">\n",
       "      <th></th>\n",
       "      <th>0.1</th>\n",
       "      <th>0.5</th>\n",
       "      <th>0.9</th>\n",
       "    </tr>\n",
       "  </thead>\n",
       "  <tbody>\n",
       "    <tr>\n",
       "      <th>2023-03-28</th>\n",
       "      <td>4707.32959</td>\n",
       "      <td>4785.177246</td>\n",
       "      <td>4850.517578</td>\n",
       "    </tr>\n",
       "  </tbody>\n",
       "</table>\n",
       "</div>"
      ],
      "text/plain": [
       "                   0.1          0.5          0.9\n",
       "2023-03-28  4707.32959  4785.177246  4850.517578"
      ]
     },
     "execution_count": 60,
     "metadata": {},
     "output_type": "execute_result"
    }
   ],
   "source": [
    "predictor.predict(ts=timeseries, quantiles=[0.10, 0.5, 0.90]).head()"
   ]
  },
  {
   "cell_type": "markdown",
   "id": "c7a46f34-34c2-4754-af15-c1bda00c00ae",
   "metadata": {},
   "source": [
    "#### Ejecutar predicciones utilizando el conjunto de datos de validación"
   ]
  },
  {
   "cell_type": "code",
   "execution_count": 22,
   "id": "6932e7ed-6d71-4b7d-886b-0dcb548b5f42",
   "metadata": {
    "tags": []
   },
   "outputs": [],
   "source": [
    "validate_dataset = \"validation_with_predictions.csv\""
   ]
  },
  {
   "cell_type": "code",
   "execution_count": 36,
   "id": "b1e823a8-4f0a-4312-bcf4-7e9471c09ddb",
   "metadata": {
    "tags": []
   },
   "outputs": [
    {
     "name": "stdout",
     "output_type": "stream",
     "text": [
      ".............\n",
      "listo!\n"
     ]
    }
   ],
   "source": [
    "limit = 13  # Need at least 200 samples to compute standard deviations\n",
    "i = 0\n",
    "with open(f\"{validate_dataset}\", \"w\") as baseline_file:\n",
    "    baseline_file.write(\"date,prediction,label\\n\")  # encabezado\n",
    "    for x in range(1, 15):\n",
    "        timeseries = data.iloc[:-x, 0]\n",
    "        y_hat = predictor.predict(ts=timeseries, quantiles=[0.5])\n",
    "        date = y_hat.index[0].strftime('%Y-%m-%d')\n",
    "        prediction = y_hat.values[0][0]\n",
    "        label = data.loc[date].values[0]\n",
    "        baseline_file.write(f\"{date},{prediction},{label}\\n\")\n",
    "        i += 1\n",
    "        if i > limit:\n",
    "            break\n",
    "        print(\".\", end=\"\", flush=True)\n",
    "        sleep(0.5)\n",
    "print()\n",
    "print(\"listo!\")"
   ]
  },
  {
   "cell_type": "code",
   "execution_count": 37,
   "id": "aa433229-6358-4388-a659-194423b30e23",
   "metadata": {
    "tags": []
   },
   "outputs": [
    {
     "name": "stdout",
     "output_type": "stream",
     "text": [
      "date,prediction,label\n",
      "2023-04-10,4618.9892578125,4570.91\n",
      "2023-04-09,4629.6708984375,4570.91\n",
      "2023-04-08,4642.58984375,4570.91\n",
      "2023-04-07,4647.0,4570.91\n",
      "2023-04-06,4657.9838867188,4570.91\n",
      "2023-04-05,4677.1215820312,4587.31\n",
      "2023-04-04,4683.0004882812,4603.0\n",
      "2023-04-03,4691.2099609375,4646.08\n",
      "2023-04-02,4724.9819335938,4646.08\n"
     ]
    }
   ],
   "source": [
    "!head validation_with_predictions.csv"
   ]
  },
  {
   "cell_type": "markdown",
   "id": "63999feb-651d-4ffa-8428-b59b5d132767",
   "metadata": {},
   "source": [
    "#### Cargue las predicciones como un conjunto de datos de referencia"
   ]
  },
  {
   "cell_type": "code",
   "execution_count": 38,
   "id": "2d204ff9-8a26-4851-a0fa-f1ffe7dab213",
   "metadata": {
    "tags": []
   },
   "outputs": [
    {
     "name": "stdout",
     "output_type": "stream",
     "text": [
      "Baseline data uri: s3://pronostico-dolar-04-2023/deepar-dolar-notebook/ModelQualityMonitor-dolar/baselining/data\n",
      "Baseline results uri: s3://pronostico-dolar-04-2023/deepar-dolar-notebook/ModelQualityMonitor-dolar/baselining/results\n"
     ]
    }
   ],
   "source": [
    "baseline_prefix = prefix + \"/baselining\"\n",
    "baseline_data_prefix = baseline_prefix + \"/data\"\n",
    "baseline_results_prefix = baseline_prefix + \"/results\"\n",
    "\n",
    "baseline_data_uri = f\"s3://{bucket}/{baseline_data_prefix}\"\n",
    "baseline_results_uri = f\"s3://{bucket}/{baseline_results_prefix}\"\n",
    "print(f\"Baseline data uri: {baseline_data_uri}\")\n",
    "print(f\"Baseline results uri: {baseline_results_uri}\")"
   ]
  },
  {
   "cell_type": "code",
   "execution_count": 40,
   "id": "05338d36-7808-4096-a980-0b80bddf95d4",
   "metadata": {
    "tags": []
   },
   "outputs": [
    {
     "data": {
      "text/plain": [
       "'s3://pronostico-dolar-04-2023/deepar-dolar-notebook/ModelQualityMonitor-dolar/baselining/data/validation_with_predictions.csv'"
      ]
     },
     "execution_count": 40,
     "metadata": {},
     "output_type": "execute_result"
    }
   ],
   "source": [
    "baseline_dataset_uri = S3Uploader.upload(f\"{validate_dataset}\", baseline_data_uri)\n",
    "baseline_dataset_uri"
   ]
  },
  {
   "cell_type": "markdown",
   "id": "f0ea314e-2fc3-4b32-a33e-8afe7df4d983",
   "metadata": {},
   "source": [
    "#### Baselining job con predicciones sobre datos de validación"
   ]
  },
  {
   "cell_type": "code",
   "execution_count": 41,
   "id": "b9e2f55a-4e6d-449f-873b-b8832207cad4",
   "metadata": {
    "tags": []
   },
   "outputs": [],
   "source": [
    "from sagemaker.model_monitor import ModelQualityMonitor\n",
    "from sagemaker.model_monitor import EndpointInput\n",
    "from sagemaker.model_monitor.dataset_format import DatasetFormat"
   ]
  },
  {
   "cell_type": "code",
   "execution_count": 44,
   "id": "ff365809-0c1a-4946-9320-d64ca2f46167",
   "metadata": {
    "tags": []
   },
   "outputs": [],
   "source": [
    "# Create the model quality monitoring object\n",
    "Dolar_model_quality_monitor = ModelQualityMonitor(\n",
    "    role=role,\n",
    "    instance_count=1,\n",
    "    instance_type=\"ml.m4.xlarge\",\n",
    "    volume_size_in_gb=10,\n",
    "    max_runtime_in_seconds=1800,\n",
    "    sagemaker_session=session,\n",
    ")"
   ]
  },
  {
   "cell_type": "code",
   "execution_count": 45,
   "id": "f4bb81e6-37b6-4a5d-b4ad-efad95138e87",
   "metadata": {
    "tags": []
   },
   "outputs": [],
   "source": [
    "# Name of the model quality baseline job\n",
    "baseline_job_name = f\"Dolar-model-baseline-job-{datetime.utcnow():%Y-%m-%d-%H%M}\""
   ]
  },
  {
   "cell_type": "code",
   "execution_count": 46,
   "id": "18d2c761-4fe1-42eb-8cfa-f5a814c710ef",
   "metadata": {
    "tags": []
   },
   "outputs": [
    {
     "name": "stderr",
     "output_type": "stream",
     "text": [
      "INFO:sagemaker:Creating processing-job with name Dolar-model-baseline-job-2023-04-10-2045\n"
     ]
    },
    {
     "name": "stdout",
     "output_type": "stream",
     "text": [
      "....................................................................................!"
     ]
    }
   ],
   "source": [
    "# Execute the baseline suggestion job.\n",
    "# You will specify problem type, and provide other required attributes.\n",
    "job = Dolar_model_quality_monitor.suggest_baseline(\n",
    "    job_name=baseline_job_name,\n",
    "    baseline_dataset=baseline_dataset_uri,\n",
    "    dataset_format=DatasetFormat.csv(header=True),\n",
    "    output_s3_uri=baseline_results_uri,\n",
    "    problem_type=\"Regression\",\n",
    "    inference_attribute=\"prediction\",\n",
    "    ground_truth_attribute=\"label\",\n",
    ")\n",
    "job.wait(logs=False)"
   ]
  },
  {
   "cell_type": "markdown",
   "id": "dae7d78e-170c-41b7-858a-50a12020b5d6",
   "metadata": {},
   "source": [
    "#### Vialización del resultado del baseline_job"
   ]
  },
  {
   "cell_type": "code",
   "execution_count": 48,
   "id": "e8e0259d-0565-422e-a428-86431ccd30ab",
   "metadata": {
    "tags": []
   },
   "outputs": [],
   "source": [
    "baseline_job = Dolar_model_quality_monitor.latest_baselining_job"
   ]
  },
  {
   "cell_type": "code",
   "execution_count": 49,
   "id": "802aadca-cfd5-49a0-9250-d505e573624f",
   "metadata": {
    "tags": []
   },
   "outputs": [
    {
     "data": {
      "text/html": [
       "<div>\n",
       "<style scoped>\n",
       "    .dataframe tbody tr th:only-of-type {\n",
       "        vertical-align: middle;\n",
       "    }\n",
       "\n",
       "    .dataframe tbody tr th {\n",
       "        vertical-align: top;\n",
       "    }\n",
       "\n",
       "    .dataframe thead th {\n",
       "        text-align: right;\n",
       "    }\n",
       "</style>\n",
       "<table border=\"1\" class=\"dataframe\">\n",
       "  <thead>\n",
       "    <tr style=\"text-align: right;\">\n",
       "      <th></th>\n",
       "      <th>0</th>\n",
       "    </tr>\n",
       "  </thead>\n",
       "  <tbody>\n",
       "    <tr>\n",
       "      <th>mae.value</th>\n",
       "      <td>80.027492</td>\n",
       "    </tr>\n",
       "    <tr>\n",
       "      <th>mae.standard_deviation</th>\n",
       "      <td>None</td>\n",
       "    </tr>\n",
       "    <tr>\n",
       "      <th>mse.value</th>\n",
       "      <td>6858.235258</td>\n",
       "    </tr>\n",
       "    <tr>\n",
       "      <th>mse.standard_deviation</th>\n",
       "      <td>None</td>\n",
       "    </tr>\n",
       "    <tr>\n",
       "      <th>rmse.value</th>\n",
       "      <td>82.814463</td>\n",
       "    </tr>\n",
       "    <tr>\n",
       "      <th>rmse.standard_deviation</th>\n",
       "      <td>None</td>\n",
       "    </tr>\n",
       "    <tr>\n",
       "      <th>r2.value</th>\n",
       "      <td>-3.601574</td>\n",
       "    </tr>\n",
       "    <tr>\n",
       "      <th>r2.standard_deviation</th>\n",
       "      <td>None</td>\n",
       "    </tr>\n",
       "  </tbody>\n",
       "</table>\n",
       "</div>"
      ],
      "text/plain": [
       "                                   0\n",
       "mae.value                  80.027492\n",
       "mae.standard_deviation          None\n",
       "mse.value                6858.235258\n",
       "mse.standard_deviation          None\n",
       "rmse.value                 82.814463\n",
       "rmse.standard_deviation         None\n",
       "r2.value                   -3.601574\n",
       "r2.standard_deviation           None"
      ]
     },
     "execution_count": 49,
     "metadata": {},
     "output_type": "execute_result"
    }
   ],
   "source": [
    "Regression_metrics = baseline_job.baseline_statistics().body_dict[\"regression_metrics\"]\n",
    "pd.json_normalize(Regression_metrics).T\n"
   ]
  },
  {
   "cell_type": "code",
   "execution_count": 50,
   "id": "f5f7622d-1134-45a6-aa1d-3b3b081871cc",
   "metadata": {
    "tags": []
   },
   "outputs": [
    {
     "data": {
      "text/html": [
       "<div>\n",
       "<style scoped>\n",
       "    .dataframe tbody tr th:only-of-type {\n",
       "        vertical-align: middle;\n",
       "    }\n",
       "\n",
       "    .dataframe tbody tr th {\n",
       "        vertical-align: top;\n",
       "    }\n",
       "\n",
       "    .dataframe thead th {\n",
       "        text-align: right;\n",
       "    }\n",
       "</style>\n",
       "<table border=\"1\" class=\"dataframe\">\n",
       "  <thead>\n",
       "    <tr style=\"text-align: right;\">\n",
       "      <th></th>\n",
       "      <th>threshold</th>\n",
       "      <th>comparison_operator</th>\n",
       "    </tr>\n",
       "  </thead>\n",
       "  <tbody>\n",
       "    <tr>\n",
       "      <th>mae</th>\n",
       "      <td>80.027492</td>\n",
       "      <td>GreaterThanThreshold</td>\n",
       "    </tr>\n",
       "    <tr>\n",
       "      <th>mse</th>\n",
       "      <td>6858.235258</td>\n",
       "      <td>GreaterThanThreshold</td>\n",
       "    </tr>\n",
       "    <tr>\n",
       "      <th>rmse</th>\n",
       "      <td>82.814463</td>\n",
       "      <td>GreaterThanThreshold</td>\n",
       "    </tr>\n",
       "    <tr>\n",
       "      <th>r2</th>\n",
       "      <td>-3.601574</td>\n",
       "      <td>LessThanThreshold</td>\n",
       "    </tr>\n",
       "  </tbody>\n",
       "</table>\n",
       "</div>"
      ],
      "text/plain": [
       "        threshold   comparison_operator\n",
       "mae     80.027492  GreaterThanThreshold\n",
       "mse   6858.235258  GreaterThanThreshold\n",
       "rmse    82.814463  GreaterThanThreshold\n",
       "r2      -3.601574     LessThanThreshold"
      ]
     },
     "execution_count": 50,
     "metadata": {},
     "output_type": "execute_result"
    }
   ],
   "source": [
    "pd.DataFrame(baseline_job.suggested_constraints().body_dict[\"regression_constraints\"]).T"
   ]
  }
 ],
 "metadata": {
  "kernelspec": {
   "display_name": "conda_python3",
   "language": "python",
   "name": "conda_python3"
  },
  "language_info": {
   "codemirror_mode": {
    "name": "ipython",
    "version": 3
   },
   "file_extension": ".py",
   "mimetype": "text/x-python",
   "name": "python",
   "nbconvert_exporter": "python",
   "pygments_lexer": "ipython3",
   "version": "3.10.8"
  }
 },
 "nbformat": 4,
 "nbformat_minor": 5
}
