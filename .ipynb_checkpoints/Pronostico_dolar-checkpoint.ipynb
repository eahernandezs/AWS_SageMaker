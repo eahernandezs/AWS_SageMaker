{
 "cells": [
  {
   "cell_type": "markdown",
   "id": "fa8ccfdb-8844-4d99-9b85-cfd95e239459",
   "metadata": {},
   "source": [
    "**Proyecto: Pronóstico del dolar con el algoritmo de previsión DeepAR AWS**\n",
    "\n",
    "Universidad Sergio Arboleda\n",
    "\n",
    "Electiva 3 - Maestría en IA\n",
    "\n",
    "Edwar A. Hernández"
   ]
  },
  {
   "cell_type": "markdown",
   "id": "6035b409-6fd2-4c9d-aab8-89e86d1071dc",
   "metadata": {},
   "source": [
    "#### Cargue de librerías requeridas"
   ]
  },
  {
   "cell_type": "code",
   "execution_count": 1,
   "id": "ebf4ecec-1416-4561-9a5d-b963732f18d2",
   "metadata": {
    "tags": []
   },
   "outputs": [],
   "source": [
    "%matplotlib inline\n",
    "\n",
    "import sys\n",
    "import zipfile\n",
    "from dateutil.parser import parse\n",
    "import json\n",
    "from random import shuffle\n",
    "import random\n",
    "import datetime\n",
    "import os\n",
    "\n",
    "import boto3\n",
    "import s3fs\n",
    "import sagemaker\n",
    "import numpy as np\n",
    "import pandas as pd\n",
    "import matplotlib.pyplot as plt\n",
    "from datetime import timedelta\n",
    "\n",
    "from ipywidgets import interact, interactive, fixed, interact_manual\n",
    "import ipywidgets as widgets\n",
    "from ipywidgets import IntSlider, FloatSlider, Checkbox"
   ]
  },
  {
   "cell_type": "markdown",
   "id": "0fd9bf12-a288-4e13-bd90-acabca34484f",
   "metadata": {},
   "source": [
    "#### Ajuste de semillas para reproducibilidad de resultados"
   ]
  },
  {
   "cell_type": "code",
   "execution_count": 2,
   "id": "6b8cb79d-7311-44a4-96bf-a755a4e6a421",
   "metadata": {
    "tags": []
   },
   "outputs": [],
   "source": [
    "# set random seeds for reproducibility\n",
    "np.random.seed(42)\n",
    "random.seed(42)"
   ]
  },
  {
   "cell_type": "markdown",
   "id": "ff46b57f-d716-4e99-939b-858f4712d07e",
   "metadata": {},
   "source": [
    "#### Ajustes iniciales"
   ]
  },
  {
   "cell_type": "code",
   "execution_count": 4,
   "id": "6e30c2ac-01b4-4288-8af1-3520c9e4fee5",
   "metadata": {
    "tags": []
   },
   "outputs": [],
   "source": [
    "sagemaker_session = sagemaker.Session()"
   ]
  },
  {
   "cell_type": "code",
   "execution_count": 5,
   "id": "613afb95-834a-4873-bb4b-49c3f969e17a",
   "metadata": {
    "tags": []
   },
   "outputs": [],
   "source": [
    "s3_bucket = \"s3://pronostico-dolar-04-2023\"  # reemplazar con un bucket existente si es necesario\n",
    "s3_prefix = \"deepar-dolar-notebook\"  # prefijo utilizado para todos los datos almacenados en el bucket\n",
    "\n",
    "role = 'Labrole'  # IAM role usado por SageMaker"
   ]
  },
  {
   "cell_type": "code",
   "execution_count": 6,
   "id": "257efbbe-36f5-4571-b326-11b1a1a3d598",
   "metadata": {
    "tags": []
   },
   "outputs": [],
   "source": [
    "region = sagemaker_session.boto_region_name\n",
    "\n",
    "s3_data_path = \"s3://{}/{}/data\".format(s3_bucket, s3_prefix) #Configuración path carpeta datos de entrada\n",
    "s3_output_path = \"s3://{}/{}/output\".format(s3_bucket, s3_prefix) #Configuración path carpeta datos de salida"
   ]
  },
  {
   "cell_type": "markdown",
   "id": "97bf8b92-1ac7-4b60-9ef6-a1bb9d429574",
   "metadata": {},
   "source": [
    "#### Configuración de imagen del contenedor"
   ]
  },
  {
   "cell_type": "code",
   "execution_count": 7,
   "id": "a7f32ec4-fa30-4442-ba19-b6351b7615c2",
   "metadata": {
    "tags": []
   },
   "outputs": [],
   "source": [
    "image_name = sagemaker.image_uris.retrieve(\"forecasting-deepar\", region)"
   ]
  },
  {
   "cell_type": "markdown",
   "id": "b85db6b0-1f80-4703-bb06-2dd0ce226cb0",
   "metadata": {},
   "source": [
    "#### EDA y ajustes iniciales del dataset"
   ]
  },
  {
   "cell_type": "code",
   "execution_count": 9,
   "id": "221646c1-45e0-4984-b175-e2a7b13302c0",
   "metadata": {
    "tags": []
   },
   "outputs": [],
   "source": [
    "FILE_NAME = \"Serie_historica_dolar_Deep_AR.csv\""
   ]
  },
  {
   "cell_type": "code",
   "execution_count": 13,
   "id": "b900b28e-2892-402a-a550-be7404861306",
   "metadata": {
    "tags": []
   },
   "outputs": [],
   "source": [
    "data = pd.read_csv(FILE_NAME, index_col=0, parse_dates=True, dayfirst=True)"
   ]
  },
  {
   "cell_type": "code",
   "execution_count": 14,
   "id": "53b312e7-3c99-4863-935f-36142bee866f",
   "metadata": {
    "tags": []
   },
   "outputs": [
    {
     "data": {
      "text/html": [
       "<div>\n",
       "<style scoped>\n",
       "    .dataframe tbody tr th:only-of-type {\n",
       "        vertical-align: middle;\n",
       "    }\n",
       "\n",
       "    .dataframe tbody tr th {\n",
       "        vertical-align: top;\n",
       "    }\n",
       "\n",
       "    .dataframe thead th {\n",
       "        text-align: right;\n",
       "    }\n",
       "</style>\n",
       "<table border=\"1\" class=\"dataframe\">\n",
       "  <thead>\n",
       "    <tr style=\"text-align: right;\">\n",
       "      <th></th>\n",
       "      <th>target</th>\n",
       "    </tr>\n",
       "    <tr>\n",
       "      <th>start</th>\n",
       "      <th></th>\n",
       "    </tr>\n",
       "  </thead>\n",
       "  <tbody>\n",
       "    <tr>\n",
       "      <th>2022-04-10</th>\n",
       "      <td>3777.41</td>\n",
       "    </tr>\n",
       "    <tr>\n",
       "      <th>2022-04-11</th>\n",
       "      <td>3777.41</td>\n",
       "    </tr>\n",
       "    <tr>\n",
       "      <th>2022-04-12</th>\n",
       "      <td>3744.16</td>\n",
       "    </tr>\n",
       "    <tr>\n",
       "      <th>2022-04-13</th>\n",
       "      <td>3736.70</td>\n",
       "    </tr>\n",
       "    <tr>\n",
       "      <th>2022-04-14</th>\n",
       "      <td>3737.32</td>\n",
       "    </tr>\n",
       "  </tbody>\n",
       "</table>\n",
       "</div>"
      ],
      "text/plain": [
       "             target\n",
       "start              \n",
       "2022-04-10  3777.41\n",
       "2022-04-11  3777.41\n",
       "2022-04-12  3744.16\n",
       "2022-04-13  3736.70\n",
       "2022-04-14  3737.32"
      ]
     },
     "execution_count": 14,
     "metadata": {},
     "output_type": "execute_result"
    }
   ],
   "source": [
    "data.head()"
   ]
  },
  {
   "cell_type": "code",
   "execution_count": null,
   "id": "977f6772-ae45-4e3f-8334-0e5cc792f377",
   "metadata": {},
   "outputs": [],
   "source": []
  }
 ],
 "metadata": {
  "kernelspec": {
   "display_name": "conda_python3",
   "language": "python",
   "name": "conda_python3"
  },
  "language_info": {
   "codemirror_mode": {
    "name": "ipython",
    "version": 3
   },
   "file_extension": ".py",
   "mimetype": "text/x-python",
   "name": "python",
   "nbconvert_exporter": "python",
   "pygments_lexer": "ipython3",
   "version": "3.10.8"
  }
 },
 "nbformat": 4,
 "nbformat_minor": 5
}
